{
  "nbformat": 4,
  "nbformat_minor": 0,
  "metadata": {
    "colab": {
      "name": "TMDS_Signal_Simulator.ipynb",
      "provenance": [],
      "collapsed_sections": [],
      "authorship_tag": "ABX9TyPOWs7M6T128BirtkYd3rBz",
      "include_colab_link": true
    },
    "kernelspec": {
      "name": "python3",
      "display_name": "Python 3"
    }
  },
  "cells": [
    {
      "cell_type": "markdown",
      "metadata": {
        "id": "view-in-github",
        "colab_type": "text"
      },
      "source": [
        "<a href=\"https://colab.research.google.com/github/daianjibetu/TMDS_Signal_Simulator/blob/main/TMDS_Signal_Simulator.ipynb\" target=\"_parent\"><img src=\"https://colab.research.google.com/assets/colab-badge.svg\" alt=\"Open In Colab\"/></a>"
      ]
    },
    {
      "cell_type": "markdown",
      "metadata": {
        "id": "jD9mfEdQVMgK"
      },
      "source": [
        "2進数に変換"
      ]
    },
    {
      "cell_type": "code",
      "metadata": {
        "id": "XDb6hHB8EMzp"
      },
      "source": [
        "def IntToBits(indata):\n",
        "    outdata = []\n",
        "    \n",
        "    for element in indata:\n",
        "        str_array = list(format(element, '08b'))\n",
        "        outdata.append([int(s) for s in str_array])\n",
        "    \n",
        "    return outdata"
      ],
      "execution_count": 1,
      "outputs": []
    },
    {
      "cell_type": "markdown",
      "metadata": {
        "id": "iEBB8mBMVQ0l"
      },
      "source": [
        "ビット順序反転"
      ]
    },
    {
      "cell_type": "code",
      "metadata": {
        "id": "Ht-WeD5plrxG"
      },
      "source": [
        "def BitsReverse(indata):\n",
        "    outdata = []\n",
        "\n",
        "    for elements in indata:\n",
        "        outdata.append(list(reversed(elements)))\n",
        "\n",
        "    return outdata"
      ],
      "execution_count": 2,
      "outputs": []
    },
    {
      "cell_type": "markdown",
      "metadata": {
        "id": "olwPCHqsnzat"
      },
      "source": [
        "XNORプロセス"
      ]
    },
    {
      "cell_type": "code",
      "metadata": {
        "id": "QkarcUsxjt9y"
      },
      "source": [
        "def XNOR(indata, isEncode):\n",
        "    outdata = []\n",
        "\n",
        "    outdata.append(indata[0])\n",
        "    for i in range(1,8):\n",
        "        if isEncode:\n",
        "            if (outdata[i - 1] == indata[i]):\n",
        "                outdata.append(1)\n",
        "            else:\n",
        "                outdata.append(0)\n",
        "        else:\n",
        "            if (indata[i - 1] == indata[i]):\n",
        "                outdata.append(1)\n",
        "            else:\n",
        "                outdata.append(0)\n",
        "    \n",
        "    if isEncode:\n",
        "        outdata.append(0)\n",
        "\n",
        "    return outdata"
      ],
      "execution_count": 3,
      "outputs": []
    },
    {
      "cell_type": "markdown",
      "metadata": {
        "id": "f2H2UXubnxYs"
      },
      "source": [
        "XORプロセス"
      ]
    },
    {
      "cell_type": "code",
      "metadata": {
        "id": "2BeBonIQaXpp"
      },
      "source": [
        "def XOR(indata, isEncode):\n",
        "    outdata = []\n",
        "\n",
        "    outdata.append(indata[0])\n",
        "    for i in range(1,8):\n",
        "        if isEncode:\n",
        "            if (outdata[i - 1] == indata[i]):\n",
        "                outdata.append(0)\n",
        "            else:\n",
        "                outdata.append(1)\n",
        "        else:\n",
        "            if (indata[i - 1] == indata[i]):\n",
        "                outdata.append(0)\n",
        "            else:\n",
        "                outdata.append(1)\n",
        "    \n",
        "    if isEncode:\n",
        "        outdata.append(1)\n",
        "\n",
        "    return outdata"
      ],
      "execution_count": 4,
      "outputs": []
    },
    {
      "cell_type": "markdown",
      "metadata": {
        "id": "uu2HVzM-n1sf"
      },
      "source": [
        "Transition Minimized（遷移時間最短）"
      ]
    },
    {
      "cell_type": "code",
      "metadata": {
        "id": "loKQ5HCSW7rj"
      },
      "source": [
        "def TransitionMinimized(indata):\n",
        "    outdata = []\n",
        "\n",
        "    for elements in indata:\n",
        "        ones = sum(elements)\n",
        "        if (ones > 4 or (ones == 4 and elements[0] == 0)):\n",
        "            outdata.append(XNOR(elements, True))\n",
        "        else:\n",
        "            outdata.append(XOR(elements, True))\n",
        "    \n",
        "    return outdata"
      ],
      "execution_count": 5,
      "outputs": []
    },
    {
      "cell_type": "markdown",
      "metadata": {
        "id": "L-y5rcfF3ceC"
      },
      "source": [
        "ビット反転"
      ]
    },
    {
      "cell_type": "code",
      "metadata": {
        "id": "6FRzwY-s3cvh"
      },
      "source": [
        "def inv(bit):\n",
        "    if(bit == 0):   \n",
        "        return 1\n",
        "    else:\n",
        "        return 0"
      ],
      "execution_count": 6,
      "outputs": []
    },
    {
      "cell_type": "markdown",
      "metadata": {
        "id": "LVakCnbQuGRG"
      },
      "source": [
        "Throughプロセス"
      ]
    },
    {
      "cell_type": "code",
      "metadata": {
        "id": "NGC9QGNmuG09"
      },
      "source": [
        "def Through(indata, isEncode):\n",
        "    outdata = []\n",
        "\n",
        "    for i in range(8):\n",
        "        outdata.append(indata[i])\n",
        "    \n",
        "    outdata.append(indata[8])\n",
        "    \n",
        "    if isEncode:\n",
        "        outdata.append(0)\n",
        "\n",
        "    return outdata"
      ],
      "execution_count": 7,
      "outputs": []
    },
    {
      "cell_type": "markdown",
      "metadata": {
        "id": "GT4E9_MuuP3q"
      },
      "source": [
        "Inverseプロセス"
      ]
    },
    {
      "cell_type": "code",
      "metadata": {
        "id": "LSG81Ss5uWgx"
      },
      "source": [
        "def Inverse(indata, isEncode):\n",
        "    outdata = []\n",
        "\n",
        "    for i in range(8):\n",
        "        outdata.append(inv(indata[i]))\n",
        "    \n",
        "    outdata.append(indata[8])\n",
        "    \n",
        "    if isEncode:\n",
        "        outdata.append(1)\n",
        "\n",
        "    return outdata"
      ],
      "execution_count": 8,
      "outputs": []
    },
    {
      "cell_type": "markdown",
      "metadata": {
        "id": "Q_18V7hnti55"
      },
      "source": [
        "DC-Balancing（DCバランス）"
      ]
    },
    {
      "cell_type": "code",
      "metadata": {
        "id": "t-mda1h9st5W"
      },
      "source": [
        "def DCBalancing(indata):\n",
        "    outdata = []\n",
        "\n",
        "    cnt = 0\n",
        "\n",
        "    for elements in indata:\n",
        "        zeros = 0\n",
        "        ones = 0\n",
        "        for i in range(8):\n",
        "            ones += elements[i]\n",
        "        zeros = 8 - ones\n",
        "        \n",
        "        if (cnt == 0 or zeros == ones):\n",
        "            if (elements[8] == 0):\n",
        "                outdata.append(Inverse(elements, True))\n",
        "                cnt += (zeros - ones)\n",
        "            else:\n",
        "                outdata.append(Through(elements, True))\n",
        "                cnt += (ones - zeros)\n",
        "        else:\n",
        "            if ((cnt > 0 and ones > zeros) or (cnt < 0 and zeros > ones)):\n",
        "                outdata.append(Inverse(elements, True))\n",
        "                cnt += ((zeros - ones) + 2 * elements[8])\n",
        "            else:\n",
        "                outdata.append(Through(elements, True))\n",
        "                cnt += ((ones - zeros) - 2 * inv(elements[8]))\n",
        "    \n",
        "    return outdata"
      ],
      "execution_count": 9,
      "outputs": []
    },
    {
      "cell_type": "markdown",
      "metadata": {
        "id": "9WfrnMSlhVGD"
      },
      "source": [
        "エンコード"
      ]
    },
    {
      "cell_type": "code",
      "metadata": {
        "id": "RsLMwKvLhXoq"
      },
      "source": [
        "def TMDSEncode(indata):\n",
        "    tmpdata = TransitionMinimized(indata)\n",
        "    outdata = DCBalancing(tmpdata)\n",
        "\n",
        "    return outdata"
      ],
      "execution_count": 10,
      "outputs": []
    },
    {
      "cell_type": "markdown",
      "metadata": {
        "id": "dmE6o7sQLsYZ"
      },
      "source": [
        "シリアライズ"
      ]
    },
    {
      "cell_type": "code",
      "metadata": {
        "id": "BpY73lN6L1EB"
      },
      "source": [
        "def Serialize(indata):\n",
        "    outdata = sum(indata, [])\n",
        "\n",
        "    return outdata"
      ],
      "execution_count": 11,
      "outputs": []
    },
    {
      "cell_type": "markdown",
      "metadata": {
        "id": "z1Z2pcb8YxCd"
      },
      "source": [
        "デシリアライズ"
      ]
    },
    {
      "cell_type": "code",
      "metadata": {
        "id": "uMMNvoaYY0i_"
      },
      "source": [
        "def DeSerialize(indata):\n",
        "    bits = 10\n",
        "    outdata = [indata[i : (i + bits)] for i in range(0, len(indata), bits)]\n",
        "\n",
        "    return outdata"
      ],
      "execution_count": 12,
      "outputs": []
    },
    {
      "cell_type": "markdown",
      "metadata": {
        "id": "RlhQo5kUimWV"
      },
      "source": [
        "デコード"
      ]
    },
    {
      "cell_type": "code",
      "metadata": {
        "id": "uZ7u6F0fiogG"
      },
      "source": [
        "def TMDSDecode(indata):\n",
        "    tmpdata = []\n",
        "    outdata = []\n",
        "\n",
        "    for elements in indata:\n",
        "        if (elements.pop() == 0):\n",
        "            tmpdata.append(Through(elements, False))\n",
        "        else:\n",
        "            tmpdata.append(Inverse(elements, False))\n",
        "\n",
        "    for elements in tmpdata:\n",
        "        if (elements.pop() == 0):\n",
        "            outdata.append(XNOR(elements, False))\n",
        "        else:\n",
        "            outdata.append(XOR(elements, False))\n",
        "    \n",
        "    return outdata"
      ],
      "execution_count": 13,
      "outputs": []
    },
    {
      "cell_type": "markdown",
      "metadata": {
        "id": "OSSMnSyQkN3-"
      },
      "source": [
        "整数に変換"
      ]
    },
    {
      "cell_type": "code",
      "metadata": {
        "id": "xmY1tNmQkQ12"
      },
      "source": [
        "def BitsToInt(indata):\n",
        "    outdata = []\n",
        "\n",
        "    for elements in indata:\n",
        "        str_array = ''.join([str(n) for n in elements])\n",
        "        outdata.append(int(str_array, 2))\n",
        "    \n",
        "    return outdata"
      ],
      "execution_count": 14,
      "outputs": []
    },
    {
      "cell_type": "markdown",
      "metadata": {
        "id": "ZCx6-U6fT72-"
      },
      "source": [
        "サンプルデータ"
      ]
    },
    {
      "cell_type": "code",
      "metadata": {
        "id": "kM3N6lACDxiu"
      },
      "source": [
        "#R_data = [255, 255, 255, 255, 255, 255, 255, 255, 255, 255, 255, 255, 255, 255, 255, 255, 255, 255, 255, 255]\n",
        "#R_data = [0, 0, 0, 0, 0, 0, 0, 0, 0, 0, 0, 0, 0, 0, 0, 0, 0, 0, 0, 0, 0, 0, 0, 0, 0, 0, 0, 0, 0, 0]\n",
        "#R_data = [1, 1, 1, 1, 1, 1, 1, 1, 1, 1, 1, 1, 1, 1, 1, 1, 1, 1, 1, 1, 1, 1, 1, 1, 1, 1, 1, 1, 1, 1, 1, 1]\n",
        "#R_data = [3, 3, 3, 3, 3, 3, 3, 3, 3, 3, 3, 3, 3, 3, 3, 3, 3, 3, 3, 3, 3, 3, 3, 3, 3, 3, 3, 3, 3, 3, 3, 3]\n",
        "#R_data = [7, 7, 7, 7, 7, 7, 7, 7, 7, 7, 7, 7, 7, 7, 7, 7, 7, 7, 7, 7, 7, 7, 7, 7, 7, 7, 7, 7, 7, 7, 7, 7]\n",
        "#R_data = [8, 8, 8, 8, 8, 8, 8, 8, 8, 8, 8, 8, 8, 8, 8, 8, 8, 8, 8, 8, 8, 8, 8, 8]\n",
        "#R_data = [238, 238, 238, 238, 238, 238, 238, 238, 238, 238, 238, 238, 238, 238, 238, 238, 238, 238, 238, 238]\n",
        "#R_data = [22, 22, 22, 22, 22, 22, 22, 22, 22, 22, 22, 22, 22, 22, 22, 22, 22, 22, 22, 22]\n",
        "#R_data = [210, 210, 210, 210, 210, 210, 210, 210, 210, 210, 210, 210, 210, 210, 210, 210, 210, 210, 210, 210]\n",
        "#R_data = [213, 213, 213, 213, 213, 213, 213, 213, 213, 213, 213, 213, 213, 213, 213, 213, 213, 213, 213, 213]\n",
        "#R_data = [255, 0, 255, 0, 255, 0, 255, 0, 255, 0, 255, 0, 255, 0, 255, 0, 255, 0, 255, 0, 255, 0, 255, 0]\n",
        "#R_data = [255, 255, 0, 0, 255, 255, 0, 0, 255, 255, 0, 0, 255, 255, 0, 0, 255, 255, 0, 0, 255, 255, 0, 0]\n",
        "#R_data = [255, 255, 255, 0, 0, 0, 255, 255, 255, 0, 0, 0, 255, 255, 255, 0, 0, 0, 255, 255, 255, 0, 0, 0]\n",
        "R_data = [251, 251, 251, 251, 251, 251, 251, 251, 251, 251, 251, 251, 251, 251, 251, 251, 251, 251, 251, 251, 251]\n",
        "#R_data = [255, 255, 255, 255, 255, 255, 0, 255, 255, 255, 255, 255, 255, 0, 255, 255, 255, 255, 255, 255, 0, 255, 255, 255, 255, 255, 255, 0, 255, 255, 255, 255, 255, 255, 0]"
      ],
      "execution_count": 15,
      "outputs": []
    },
    {
      "cell_type": "markdown",
      "metadata": {
        "id": "pxlmHnxmpGgz"
      },
      "source": [
        "エンコーダー部"
      ]
    },
    {
      "cell_type": "code",
      "metadata": {
        "id": "Ew_jVN52GKyb"
      },
      "source": [
        "array_1 = IntToBits(R_data)\n",
        "#print(array_1)\n",
        "array_2 = BitsReverse(array_1)\n",
        "#print(array_2)\n",
        "array_3 = TMDSEncode(array_2)\n",
        "#print(array_3)\n",
        "array_4 = Serialize(array_3)\n",
        "#print(array_4)"
      ],
      "execution_count": 16,
      "outputs": []
    },
    {
      "cell_type": "markdown",
      "metadata": {
        "id": "Hsfbz1X0OLTa"
      },
      "source": [
        "信号出力"
      ]
    },
    {
      "cell_type": "code",
      "metadata": {
        "id": "Oj6oaxCuOV4B",
        "outputId": "8c75dec8-9c7c-4b95-dd02-6e5074134137",
        "colab": {
          "base_uri": "https://localhost:8080/",
          "height": 374
        }
      },
      "source": [
        "import matplotlib.pyplot as plt\n",
        "import matplotlib.ticker as ticker\n",
        "\n",
        "fig, ax = plt.subplots(figsize = (30, 6)) \n",
        "ax.xaxis.set_major_locator(ticker.MultipleLocator(10))\n",
        "ax.yaxis.set_major_locator(ticker.MultipleLocator(1))\n",
        "\n",
        "plt.plot(array_4)\n",
        "plt.grid()\n",
        "plt.show()"
      ],
      "execution_count": 17,
      "outputs": [
        {
          "output_type": "display_data",
          "data": {
            "image/png": "[encoded data removed]",
            "text/plain": [
              "<Figure size 2160x432 with 1 Axes>"
            ]
          },
          "metadata": {
            "tags": [],
            "needs_background": "light"
          }
        }
      ]
    },
    {
      "cell_type": "markdown",
      "metadata": {
        "id": "hiTJujfCpPZX"
      },
      "source": [
        "デコーダー部"
      ]
    },
    {
      "cell_type": "code",
      "metadata": {
        "id": "4J3tKBlicexZ",
        "outputId": "feb46877-de32-4611-dc58-83685c48af4b",
        "colab": {
          "base_uri": "https://localhost:8080/"
        }
      },
      "source": [
        "array_5 = DeSerialize(array_4)\n",
        "#print(array_5)\n",
        "array_6 = TMDSDecode(array_5)\n",
        "#print(array_6)\n",
        "array_7 = BitsReverse(array_6)\n",
        "#print(array_7)\n",
        "array_8 = BitsToInt(array_7)\n",
        "print(array_8)"
      ],
      "execution_count": 18,
      "outputs": [
        {
          "output_type": "stream",
          "text": [
            "[251, 251, 251, 251, 251, 251, 251, 251, 251, 251, 251, 251, 251, 251, 251, 251, 251, 251, 251, 251, 251]\n"
          ],
          "name": "stdout"
        }
      ]
    }
  ]
}